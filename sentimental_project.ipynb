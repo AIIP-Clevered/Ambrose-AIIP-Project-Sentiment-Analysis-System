{
  "nbformat": 4,
  "nbformat_minor": 0,
  "metadata": {
    "colab": {
      "name": "sentimental project",
      "provenance": []
    },
    "kernelspec": {
      "name": "python3",
      "display_name": "Python 3"
    },
    "language_info": {
      "name": "python"
    }
  },
  "cells": [
    {
      "cell_type": "code",
      "source": [
        "import textblob"
      ],
      "metadata": {
        "id": "x80-c3AO0E4g"
      },
      "execution_count": 2,
      "outputs": []
    },
    {
      "cell_type": "code",
      "source": [
        "pip install textblob"
      ],
      "metadata": {
        "colab": {
          "base_uri": "https://localhost:8080/"
        },
        "id": "D2MsKE7B0IWH",
        "outputId": "94e22911-a713-430f-dfc0-d93f9030460c"
      },
      "execution_count": 3,
      "outputs": [
        {
          "output_type": "stream",
          "name": "stdout",
          "text": [
            "Requirement already satisfied: textblob in /usr/local/lib/python3.7/dist-packages (0.15.3)\n",
            "Requirement already satisfied: nltk>=3.1 in /usr/local/lib/python3.7/dist-packages (from textblob) (3.2.5)\n",
            "Requirement already satisfied: six in /usr/local/lib/python3.7/dist-packages (from nltk>=3.1->textblob) (1.15.0)\n"
          ]
        }
      ]
    },
    {
      "cell_type": "code",
      "source": [
        "pip install flask_ngrok"
      ],
      "metadata": {
        "colab": {
          "base_uri": "https://localhost:8080/"
        },
        "id": "QA2bkgM_0MEe",
        "outputId": "deba3c93-8db6-413b-dc9b-392544cda6e1"
      },
      "execution_count": 4,
      "outputs": [
        {
          "output_type": "stream",
          "name": "stdout",
          "text": [
            "Collecting flask_ngrok\n",
            "  Downloading flask_ngrok-0.0.25-py3-none-any.whl (3.1 kB)\n",
            "Requirement already satisfied: Flask>=0.8 in /usr/local/lib/python3.7/dist-packages (from flask_ngrok) (1.1.4)\n",
            "Requirement already satisfied: requests in /usr/local/lib/python3.7/dist-packages (from flask_ngrok) (2.23.0)\n",
            "Requirement already satisfied: click<8.0,>=5.1 in /usr/local/lib/python3.7/dist-packages (from Flask>=0.8->flask_ngrok) (7.1.2)\n",
            "Requirement already satisfied: Werkzeug<2.0,>=0.15 in /usr/local/lib/python3.7/dist-packages (from Flask>=0.8->flask_ngrok) (1.0.1)\n",
            "Requirement already satisfied: Jinja2<3.0,>=2.10.1 in /usr/local/lib/python3.7/dist-packages (from Flask>=0.8->flask_ngrok) (2.11.3)\n",
            "Requirement already satisfied: itsdangerous<2.0,>=0.24 in /usr/local/lib/python3.7/dist-packages (from Flask>=0.8->flask_ngrok) (1.1.0)\n",
            "Requirement already satisfied: MarkupSafe>=0.23 in /usr/local/lib/python3.7/dist-packages (from Jinja2<3.0,>=2.10.1->Flask>=0.8->flask_ngrok) (2.0.1)\n",
            "Requirement already satisfied: urllib3!=1.25.0,!=1.25.1,<1.26,>=1.21.1 in /usr/local/lib/python3.7/dist-packages (from requests->flask_ngrok) (1.24.3)\n",
            "Requirement already satisfied: idna<3,>=2.5 in /usr/local/lib/python3.7/dist-packages (from requests->flask_ngrok) (2.10)\n",
            "Requirement already satisfied: chardet<4,>=3.0.2 in /usr/local/lib/python3.7/dist-packages (from requests->flask_ngrok) (3.0.4)\n",
            "Requirement already satisfied: certifi>=2017.4.17 in /usr/local/lib/python3.7/dist-packages (from requests->flask_ngrok) (2021.10.8)\n",
            "Installing collected packages: flask-ngrok\n",
            "Successfully installed flask-ngrok-0.0.25\n"
          ]
        }
      ]
    },
    {
      "cell_type": "code",
      "source": [
        "def classify(text):\n",
        "  score = textblob.TextBlob(text).sentiment.polarity\n",
        "  if score > 0.0:\n",
        "    return(\"Positive\")\n",
        "  elif score<0.0:\n",
        "    return(\"Negative\")\n",
        "  else:\n",
        "    return(\"Neutral\")"
      ],
      "metadata": {
        "id": "jhQG6ur71N3N"
      },
      "execution_count": 10,
      "outputs": []
    },
    {
      "cell_type": "code",
      "source": [
        "classify(\"the movie is decent\")"
      ],
      "metadata": {
        "colab": {
          "base_uri": "https://localhost:8080/",
          "height": 35
        },
        "id": "AhgLRlvf17Ld",
        "outputId": "4b89b1d4-6280-41b4-85e3-0715bd3526ee"
      },
      "execution_count": 15,
      "outputs": [
        {
          "output_type": "execute_result",
          "data": {
            "application/vnd.google.colaboratory.intrinsic+json": {
              "type": "string"
            },
            "text/plain": [
              "'Positive'"
            ]
          },
          "metadata": {},
          "execution_count": 15
        }
      ]
    },
    {
      "cell_type": "code",
      "source": [
        "!ngrok authtoken 22ERGfUx6HWnFXvZl8OGQVgzz1w_5PwTQipDA4mJ6PLXsfcCw"
      ],
      "metadata": {
        "colab": {
          "base_uri": "https://localhost:8080/"
        },
        "id": "e0lmHyaw5rWg",
        "outputId": "28ee5a29-0182-4dd8-99fd-d2fa88ee9f18"
      },
      "execution_count": 19,
      "outputs": [
        {
          "output_type": "stream",
          "name": "stdout",
          "text": [
            "Authtoken saved to configuration file: /root/.ngrok2/ngrok.yml\n"
          ]
        }
      ]
    },
    {
      "cell_type": "code",
      "source": [
        "import numpy as np\n",
        "from flask_ngrok import run_with_ngrok\n",
        "import cv2\n",
        "from flask import Flask\n",
        "from flask import request, jsonify, render_template\n",
        "\n",
        "app = Flask(__name__)\n",
        "run_with_ngrok(app)   \n",
        "\n",
        "@app.route('/')\n",
        "def home():\n",
        "    return render_template('home.html')\n",
        "\n",
        "@app.route('/predict',methods=['GET','POST'])\n",
        "def predict():\n",
        "  if request.method == \"POST\":\n",
        "    input_feature = request.form.get('inp')\n",
        "    text=classify(input_feature)\n",
        "    return render_template('home.html',prediction_text='Sentiment is : {}'.format(text))\n",
        "app.run()\n"
      ],
      "metadata": {
        "colab": {
          "base_uri": "https://localhost:8080/"
        },
        "id": "ZvE36Xik2ffd",
        "outputId": "f85cde7d-87b9-4c97-d2f1-d43d87448ea3"
      },
      "execution_count": 20,
      "outputs": [
        {
          "output_type": "stream",
          "name": "stdout",
          "text": [
            " * Serving Flask app \"__main__\" (lazy loading)\n",
            " * Environment: production\n",
            "\u001b[31m   WARNING: This is a development server. Do not use it in a production deployment.\u001b[0m\n",
            "\u001b[2m   Use a production WSGI server instead.\u001b[0m\n",
            " * Debug mode: off\n"
          ]
        },
        {
          "output_type": "stream",
          "name": "stderr",
          "text": [
            " * Running on http://127.0.0.1:5000/ (Press CTRL+C to quit)\n"
          ]
        },
        {
          "output_type": "stream",
          "name": "stdout",
          "text": [
            " * Running on http://2128-35-236-237-88.ngrok.io\n",
            " * Traffic stats available on http://127.0.0.1:4040\n"
          ]
        },
        {
          "output_type": "stream",
          "name": "stderr",
          "text": [
            "127.0.0.1 - - [13/Dec/2021 13:08:53] \"\u001b[37mGET / HTTP/1.1\u001b[0m\" 200 -\n",
            "127.0.0.1 - - [13/Dec/2021 13:08:54] \"\u001b[33mGET /favicon.ico HTTP/1.1\u001b[0m\" 404 -\n",
            "127.0.0.1 - - [13/Dec/2021 13:08:54] \"\u001b[37mGET / HTTP/1.1\u001b[0m\" 200 -\n",
            "127.0.0.1 - - [13/Dec/2021 13:09:07] \"\u001b[37mPOST /predict HTTP/1.1\u001b[0m\" 200 -\n",
            "[2021-12-13 13:09:09,529] ERROR in app: Exception on /predict [GET]\n",
            "Traceback (most recent call last):\n",
            "  File \"/usr/local/lib/python3.7/dist-packages/flask/app.py\", line 2447, in wsgi_app\n",
            "    response = self.full_dispatch_request()\n",
            "  File \"/usr/local/lib/python3.7/dist-packages/flask/app.py\", line 1953, in full_dispatch_request\n",
            "    return self.finalize_request(rv)\n",
            "  File \"/usr/local/lib/python3.7/dist-packages/flask/app.py\", line 1968, in finalize_request\n",
            "    response = self.make_response(rv)\n",
            "  File \"/usr/local/lib/python3.7/dist-packages/flask/app.py\", line 2098, in make_response\n",
            "    \"The view function did not return a valid response. The\"\n",
            "TypeError: The view function did not return a valid response. The function either returned None or ended without a return statement.\n",
            "127.0.0.1 - - [13/Dec/2021 13:09:09] \"\u001b[35m\u001b[1mGET /predict HTTP/1.1\u001b[0m\" 500 -\n",
            "127.0.0.1 - - [13/Dec/2021 13:09:18] \"\u001b[37mPOST /predict HTTP/1.1\u001b[0m\" 200 -\n"
          ]
        }
      ]
    },
    {
      "cell_type": "code",
      "source": [
        "pip install pyngrok"
      ],
      "metadata": {
        "colab": {
          "base_uri": "https://localhost:8080/"
        },
        "id": "9vLPTwfo5yyS",
        "outputId": "d75319f5-c8c4-45ee-db4c-10d38c3bf549"
      },
      "execution_count": 18,
      "outputs": [
        {
          "output_type": "stream",
          "name": "stdout",
          "text": [
            "Collecting pyngrok\n",
            "  Downloading pyngrok-5.1.0.tar.gz (745 kB)\n",
            "\u001b[?25l\r\u001b[K     |▍                               | 10 kB 20.3 MB/s eta 0:00:01\r\u001b[K     |▉                               | 20 kB 22.8 MB/s eta 0:00:01\r\u001b[K     |█▎                              | 30 kB 22.8 MB/s eta 0:00:01\r\u001b[K     |█▊                              | 40 kB 24.4 MB/s eta 0:00:01\r\u001b[K     |██▏                             | 51 kB 26.1 MB/s eta 0:00:01\r\u001b[K     |██▋                             | 61 kB 28.6 MB/s eta 0:00:01\r\u001b[K     |███                             | 71 kB 24.9 MB/s eta 0:00:01\r\u001b[K     |███▌                            | 81 kB 24.7 MB/s eta 0:00:01\r\u001b[K     |████                            | 92 kB 25.5 MB/s eta 0:00:01\r\u001b[K     |████▍                           | 102 kB 25.5 MB/s eta 0:00:01\r\u001b[K     |████▉                           | 112 kB 25.5 MB/s eta 0:00:01\r\u001b[K     |█████▎                          | 122 kB 25.5 MB/s eta 0:00:01\r\u001b[K     |█████▊                          | 133 kB 25.5 MB/s eta 0:00:01\r\u001b[K     |██████▏                         | 143 kB 25.5 MB/s eta 0:00:01\r\u001b[K     |██████▋                         | 153 kB 25.5 MB/s eta 0:00:01\r\u001b[K     |███████                         | 163 kB 25.5 MB/s eta 0:00:01\r\u001b[K     |███████▌                        | 174 kB 25.5 MB/s eta 0:00:01\r\u001b[K     |████████                        | 184 kB 25.5 MB/s eta 0:00:01\r\u001b[K     |████████▍                       | 194 kB 25.5 MB/s eta 0:00:01\r\u001b[K     |████████▉                       | 204 kB 25.5 MB/s eta 0:00:01\r\u001b[K     |█████████▎                      | 215 kB 25.5 MB/s eta 0:00:01\r\u001b[K     |█████████▊                      | 225 kB 25.5 MB/s eta 0:00:01\r\u001b[K     |██████████▏                     | 235 kB 25.5 MB/s eta 0:00:01\r\u001b[K     |██████████▌                     | 245 kB 25.5 MB/s eta 0:00:01\r\u001b[K     |███████████                     | 256 kB 25.5 MB/s eta 0:00:01\r\u001b[K     |███████████▍                    | 266 kB 25.5 MB/s eta 0:00:01\r\u001b[K     |███████████▉                    | 276 kB 25.5 MB/s eta 0:00:01\r\u001b[K     |████████████▎                   | 286 kB 25.5 MB/s eta 0:00:01\r\u001b[K     |████████████▊                   | 296 kB 25.5 MB/s eta 0:00:01\r\u001b[K     |█████████████▏                  | 307 kB 25.5 MB/s eta 0:00:01\r\u001b[K     |█████████████▋                  | 317 kB 25.5 MB/s eta 0:00:01\r\u001b[K     |██████████████                  | 327 kB 25.5 MB/s eta 0:00:01\r\u001b[K     |██████████████▌                 | 337 kB 25.5 MB/s eta 0:00:01\r\u001b[K     |███████████████                 | 348 kB 25.5 MB/s eta 0:00:01\r\u001b[K     |███████████████▍                | 358 kB 25.5 MB/s eta 0:00:01\r\u001b[K     |███████████████▉                | 368 kB 25.5 MB/s eta 0:00:01\r\u001b[K     |████████████████▎               | 378 kB 25.5 MB/s eta 0:00:01\r\u001b[K     |████████████████▊               | 389 kB 25.5 MB/s eta 0:00:01\r\u001b[K     |█████████████████▏              | 399 kB 25.5 MB/s eta 0:00:01\r\u001b[K     |█████████████████▋              | 409 kB 25.5 MB/s eta 0:00:01\r\u001b[K     |██████████████████              | 419 kB 25.5 MB/s eta 0:00:01\r\u001b[K     |██████████████████▌             | 430 kB 25.5 MB/s eta 0:00:01\r\u001b[K     |███████████████████             | 440 kB 25.5 MB/s eta 0:00:01\r\u001b[K     |███████████████████▍            | 450 kB 25.5 MB/s eta 0:00:01\r\u001b[K     |███████████████████▉            | 460 kB 25.5 MB/s eta 0:00:01\r\u001b[K     |████████████████████▎           | 471 kB 25.5 MB/s eta 0:00:01\r\u001b[K     |████████████████████▋           | 481 kB 25.5 MB/s eta 0:00:01\r\u001b[K     |█████████████████████           | 491 kB 25.5 MB/s eta 0:00:01\r\u001b[K     |█████████████████████▌          | 501 kB 25.5 MB/s eta 0:00:01\r\u001b[K     |██████████████████████          | 512 kB 25.5 MB/s eta 0:00:01\r\u001b[K     |██████████████████████▍         | 522 kB 25.5 MB/s eta 0:00:01\r\u001b[K     |██████████████████████▉         | 532 kB 25.5 MB/s eta 0:00:01\r\u001b[K     |███████████████████████▎        | 542 kB 25.5 MB/s eta 0:00:01\r\u001b[K     |███████████████████████▊        | 552 kB 25.5 MB/s eta 0:00:01\r\u001b[K     |████████████████████████▏       | 563 kB 25.5 MB/s eta 0:00:01\r\u001b[K     |████████████████████████▋       | 573 kB 25.5 MB/s eta 0:00:01\r\u001b[K     |█████████████████████████       | 583 kB 25.5 MB/s eta 0:00:01\r\u001b[K     |█████████████████████████▌      | 593 kB 25.5 MB/s eta 0:00:01\r\u001b[K     |██████████████████████████      | 604 kB 25.5 MB/s eta 0:00:01\r\u001b[K     |██████████████████████████▍     | 614 kB 25.5 MB/s eta 0:00:01\r\u001b[K     |██████████████████████████▉     | 624 kB 25.5 MB/s eta 0:00:01\r\u001b[K     |███████████████████████████▎    | 634 kB 25.5 MB/s eta 0:00:01\r\u001b[K     |███████████████████████████▊    | 645 kB 25.5 MB/s eta 0:00:01\r\u001b[K     |████████████████████████████▏   | 655 kB 25.5 MB/s eta 0:00:01\r\u001b[K     |████████████████████████████▋   | 665 kB 25.5 MB/s eta 0:00:01\r\u001b[K     |█████████████████████████████   | 675 kB 25.5 MB/s eta 0:00:01\r\u001b[K     |█████████████████████████████▌  | 686 kB 25.5 MB/s eta 0:00:01\r\u001b[K     |██████████████████████████████  | 696 kB 25.5 MB/s eta 0:00:01\r\u001b[K     |██████████████████████████████▍ | 706 kB 25.5 MB/s eta 0:00:01\r\u001b[K     |██████████████████████████████▊ | 716 kB 25.5 MB/s eta 0:00:01\r\u001b[K     |███████████████████████████████▏| 727 kB 25.5 MB/s eta 0:00:01\r\u001b[K     |███████████████████████████████▋| 737 kB 25.5 MB/s eta 0:00:01\r\u001b[K     |████████████████████████████████| 745 kB 25.5 MB/s \n",
            "\u001b[?25hRequirement already satisfied: PyYAML in /usr/local/lib/python3.7/dist-packages (from pyngrok) (3.13)\n",
            "Building wheels for collected packages: pyngrok\n",
            "  Building wheel for pyngrok (setup.py) ... \u001b[?25l\u001b[?25hdone\n",
            "  Created wheel for pyngrok: filename=pyngrok-5.1.0-py3-none-any.whl size=19006 sha256=0a2ab7c4498b6f1cd73c4c4ad65626cc254a62dd12e9ec2db1ef7a35c77d8221\n",
            "  Stored in directory: /root/.cache/pip/wheels/bf/e6/af/ccf6598ecefecd44104069371795cb9b3afbcd16987f6ccfb3\n",
            "Successfully built pyngrok\n",
            "Installing collected packages: pyngrok\n",
            "Successfully installed pyngrok-5.1.0\n"
          ]
        }
      ]
    },
    {
      "cell_type": "code",
      "source": [
        ""
      ],
      "metadata": {
        "id": "t74uDfyo5_EL"
      },
      "execution_count": null,
      "outputs": []
    }
  ]
}